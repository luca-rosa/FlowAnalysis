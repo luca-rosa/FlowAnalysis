{
 "cells": [
  {
   "cell_type": "code",
   "execution_count": 113,
   "metadata": {},
   "outputs": [],
   "source": [
    "from configparser import ConfigParser\n",
    "import json\n",
    "import ast"
   ]
  },
  {
   "cell_type": "code",
   "execution_count": 103,
   "metadata": {},
   "outputs": [],
   "source": [
    "config = ConfigParser()\n",
    "\n",
    "config['threshold'] = {\n",
    "    'SSC-H': 100,\n",
    "    'FSC-H': 100,\n",
    "}\n",
    "\n",
    "config['path'] = {\n",
    "    'files_path': \"/Users/lucarosa/Documents/PhD/Coding/Python/FlowAnalysis/Example\",\n",
    "    'beads_path': \"/Users/lucarosa/Documents/PhD/Coding/Python/FlowAnalysis/Example/beads\",\n",
    "}\n",
    "\n",
    "config['channels'] = {\n",
    "    'colour_channels': ['BL1-H', 'YL2-H'],\n",
    "    'gating_percentage': 50,\n",
    "    \n",
    "}\n",
    "\n",
    "with open(\"./config.ini\", \"w\") as f:\n",
    "    config.write(f)\n",
    "\n"
   ]
  },
  {
   "cell_type": "code",
   "execution_count": 104,
   "metadata": {},
   "outputs": [],
   "source": [
    "parser = ConfigParser()\n",
    "parser.read_file(open(\"config.ini\"))"
   ]
  },
  {
   "cell_type": "code",
   "execution_count": 54,
   "metadata": {},
   "outputs": [
    {
     "name": "stdout",
     "output_type": "stream",
     "text": [
      "['threshold', 'path', 'channels']\n"
     ]
    }
   ],
   "source": [
    "print(parser.sections())"
   ]
  },
  {
   "cell_type": "code",
   "execution_count": 33,
   "metadata": {},
   "outputs": [
    {
     "data": {
      "text/plain": [
       "100"
      ]
     },
     "execution_count": 33,
     "metadata": {},
     "output_type": "execute_result"
    }
   ],
   "source": [
    "int(parser.get(\"threshold\", \"SSC-H\"))"
   ]
  },
  {
   "cell_type": "code",
   "execution_count": 34,
   "metadata": {},
   "outputs": [
    {
     "data": {
      "text/plain": [
       "'/Users/lucarosa/Documents/PhD/Coding/Python/FlowAnalysis/Example'"
      ]
     },
     "execution_count": 34,
     "metadata": {},
     "output_type": "execute_result"
    }
   ],
   "source": [
    "import unicodedata\n",
    "unicodedata.normalize('NFKD', parser.get(\"path\", \"files_path\")).encode('ascii','ignore')"
   ]
  },
  {
   "cell_type": "code",
   "execution_count": 59,
   "metadata": {},
   "outputs": [],
   "source": [
    "ssch_ts = int(parser.get(\"threshold\", \"SSC-H\"))\n",
    "fsch_ts = int(parser.get(\"threshold\", \"FSC-H\"))"
   ]
  },
  {
   "cell_type": "code",
   "execution_count": 63,
   "metadata": {},
   "outputs": [],
   "source": [
    "path = unicodedata.normalize('NFKD', parser.get(\"path\", \"files_path\")).encode('ascii','ignore')"
   ]
  },
  {
   "cell_type": "code",
   "execution_count": 65,
   "metadata": {},
   "outputs": [],
   "source": [
    "beads_path = unicodedata.normalize('NFKD', parser.get(\"path\", \"beads_path\")).encode('ascii','ignore')"
   ]
  },
  {
   "cell_type": "code",
   "execution_count": 114,
   "metadata": {},
   "outputs": [],
   "source": [
    "channels = ast.literal_eval(parser.get(\"channels\", \"colour_channels\"))"
   ]
  },
  {
   "cell_type": "code",
   "execution_count": 117,
   "metadata": {},
   "outputs": [
    {
     "data": {
      "text/plain": [
       "['BL1-H', 'YL2-H']"
      ]
     },
     "execution_count": 117,
     "metadata": {},
     "output_type": "execute_result"
    }
   ],
   "source": [
    "channels"
   ]
  },
  {
   "cell_type": "code",
   "execution_count": 124,
   "metadata": {},
   "outputs": [
    {
     "data": {
      "text/plain": [
       "0.5"
      ]
     },
     "execution_count": 124,
     "metadata": {},
     "output_type": "execute_result"
    }
   ],
   "source": [
    "float(parser.get(\"channels\", \"gating_percentage\"))/100"
   ]
  },
  {
   "cell_type": "code",
   "execution_count": 119,
   "metadata": {},
   "outputs": [
    {
     "data": {
      "text/plain": [
       "['FSC-H', 'SSC-H', 'SSC-A', 'BL1-H', 'YL2-H']"
      ]
     },
     "execution_count": 119,
     "metadata": {},
     "output_type": "execute_result"
    }
   ],
   "source": [
    "['FSC-H', 'SSC-H', 'SSC-A'] + channels"
   ]
  },
  {
   "cell_type": "code",
   "execution_count": 120,
   "metadata": {},
   "outputs": [],
   "source": [
    "path = unicodedata.normalize('NFKD', parser.get(\"path\", \"files_path\")).encode('ascii', 'ignore')"
   ]
  },
  {
   "cell_type": "code",
   "execution_count": 121,
   "metadata": {},
   "outputs": [
    {
     "data": {
      "text/plain": [
       "'/Users/lucarosa/Documents/PhD/Coding/Python/FlowAnalysis/Example'"
      ]
     },
     "execution_count": 121,
     "metadata": {},
     "output_type": "execute_result"
    }
   ],
   "source": [
    "path"
   ]
  },
  {
   "cell_type": "code",
   "execution_count": 133,
   "metadata": {},
   "outputs": [
    {
     "name": "stdout",
     "output_type": "stream",
     "text": [
      "CONFIG FILE:\n",
      " \n",
      "Thresholds:\n",
      "FSC-H100\n",
      "SSC-H100\n",
      " \n",
      "PATH:\n",
      "Files path: /Users/lucarosa/Documents/PhD/Coding/Python/FlowAnalysis/Example\n",
      "Beads path: /Users/lucarosa/Documents/PhD/Coding/Python/FlowAnalysis/Example/beads\n",
      " \n",
      "Colour channles: ['BL1-H', 'YL2-H']\n"
     ]
    }
   ],
   "source": [
    "print(\"CONFIG FILE:\")\n",
    "print(\" \")\n",
    "print(\"Thresholds:\")\n",
    "print(\"FSC-H\" + str(fsch_ts))\n",
    "print(\"SSC-H\" + str(ssch_ts))\n",
    "print(\" \")\n",
    "print(\"PATH:\")\n",
    "print(\"Files path:\" + \" \" + path)\n",
    "print(\"Beads path:\" + \" \" + beads_path)\n",
    "print(\" \")\n",
    "print(\"Colour channles:\" + \" \" + str(channels))\n",
    "# print(\"Gating percentage:\" + \" \" + gating_per)\n",
    "\n"
   ]
  },
  {
   "cell_type": "code",
   "execution_count": 134,
   "metadata": {},
   "outputs": [],
   "source": [
    "import os"
   ]
  },
  {
   "cell_type": "code",
   "execution_count": 136,
   "metadata": {},
   "outputs": [
    {
     "data": {
      "text/plain": [
       "'posix'"
      ]
     },
     "execution_count": 136,
     "metadata": {},
     "output_type": "execute_result"
    }
   ],
   "source": [
    "os.namen"
   ]
  },
  {
   "cell_type": "code",
   "execution_count": null,
   "metadata": {},
   "outputs": [],
   "source": []
  }
 ],
 "metadata": {
  "kernelspec": {
   "display_name": "Python 2",
   "language": "python",
   "name": "python2"
  },
  "language_info": {
   "codemirror_mode": {
    "name": "ipython",
    "version": 2
   },
   "file_extension": ".py",
   "mimetype": "text/x-python",
   "name": "python",
   "nbconvert_exporter": "python",
   "pygments_lexer": "ipython2",
   "version": "2.7.15"
  }
 },
 "nbformat": 4,
 "nbformat_minor": 2
}

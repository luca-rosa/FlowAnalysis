{
 "cells": [
  {
   "cell_type": "code",
   "execution_count": 1,
   "metadata": {},
   "outputs": [],
   "source": [
    "from configparser import ConfigParser"
   ]
  },
  {
   "cell_type": "code",
   "execution_count": 30,
   "metadata": {},
   "outputs": [],
   "source": [
    "config = ConfigParser()\n",
    "\n",
    "config['threshold'] = {\n",
    "    'SSC-H': 100,\n",
    "    'FSC-H': 100,\n",
    "}\n",
    "\n",
    "config['path'] = {\n",
    "    'files_path': \"/Users/lucarosa/Documents/PhD/Coding/Python/FlowAnalysis/Example\",\n",
    "    'beads_path': \"/Users/lucarosa/Documents/PhD/Coding/Python/FlowAnalysis/Example/beads\",\n",
    "}\n",
    "\n",
    "config['channels'] = {\n",
    "    'colour_channels': ['BL1-H', 'YL2-H'],\n",
    "    'gating_percentage': 50,\n",
    "    \n",
    "}\n",
    "\n",
    "with open(\"./config.ini\", \"w\") as f:\n",
    "    config.write(f)\n",
    "\n"
   ]
  },
  {
   "cell_type": "code",
   "execution_count": 2,
   "metadata": {},
   "outputs": [],
   "source": [
    "foo = ['FSC-H', 'SSC-H', 'SSC-A']"
   ]
  },
  {
   "cell_type": "code",
   "execution_count": 31,
   "metadata": {},
   "outputs": [],
   "source": [
    "parser = ConfigParser()\n",
    "parser.read_file(open(\"config.ini\"))"
   ]
  },
  {
   "cell_type": "code",
   "execution_count": 32,
   "metadata": {},
   "outputs": [
    {
     "name": "stdout",
     "output_type": "stream",
     "text": [
      "['threshold', 'path', 'channels']\n"
     ]
    }
   ],
   "source": [
    "print(parser.sections())"
   ]
  },
  {
   "cell_type": "code",
   "execution_count": 33,
   "metadata": {},
   "outputs": [
    {
     "data": {
      "text/plain": [
       "100"
      ]
     },
     "execution_count": 33,
     "metadata": {},
     "output_type": "execute_result"
    }
   ],
   "source": [
    "int(parser.get(\"threshold\", \"SSC-H\"))"
   ]
  },
  {
   "cell_type": "code",
   "execution_count": 27,
   "metadata": {},
   "outputs": [
    {
     "data": {
      "text/plain": [
       "unicode"
      ]
     },
     "execution_count": 27,
     "metadata": {},
     "output_type": "execute_result"
    }
   ],
   "source": [
    "parser.get(\"path\", \"files_path\")"
   ]
  },
  {
   "cell_type": "code",
   "execution_count": 34,
   "metadata": {},
   "outputs": [
    {
     "data": {
      "text/plain": [
       "'/Users/lucarosa/Documents/PhD/Coding/Python/FlowAnalysis/Example'"
      ]
     },
     "execution_count": 34,
     "metadata": {},
     "output_type": "execute_result"
    }
   ],
   "source": [
    "import unicodedata\n",
    "unicodedata.normalize('NFKD', parser.get(\"path\", \"files_path\")).encode('ascii','ignore')"
   ]
  },
  {
   "cell_type": "code",
   "execution_count": null,
   "metadata": {},
   "outputs": [],
   "source": []
  }
 ],
 "metadata": {
  "kernelspec": {
   "display_name": "Python 2",
   "language": "python",
   "name": "python2"
  },
  "language_info": {
   "codemirror_mode": {
    "name": "ipython",
    "version": 2
   },
   "file_extension": ".py",
   "mimetype": "text/x-python",
   "name": "python",
   "nbconvert_exporter": "python",
   "pygments_lexer": "ipython2",
   "version": "2.7.15"
  }
 },
 "nbformat": 4,
 "nbformat_minor": 2
}
